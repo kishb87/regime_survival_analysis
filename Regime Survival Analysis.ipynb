{
 "cells": [
  {
   "cell_type": "markdown",
   "metadata": {},
   "source": [
    "# Surival Analysis of Poltical Regimes"
   ]
  },
  {
   "cell_type": "code",
   "execution_count": 1,
   "metadata": {},
   "outputs": [],
   "source": [
    "import pandas as pd\n",
    "import matplotlib"
   ]
  },
  {
   "cell_type": "code",
   "execution_count": 2,
   "metadata": {},
   "outputs": [],
   "source": [
    "from pandasql import sqldf"
   ]
  },
  {
   "cell_type": "code",
   "execution_count": 3,
   "metadata": {},
   "outputs": [],
   "source": [
    "df = pd.read_csv('lifelines/datasets/dd.csv', index_col=[0])"
   ]
  },
  {
   "cell_type": "code",
   "execution_count": 4,
   "metadata": {},
   "outputs": [
    {
     "data": {
      "text/html": [
       "<div>\n",
       "<style scoped>\n",
       "    .dataframe tbody tr th:only-of-type {\n",
       "        vertical-align: middle;\n",
       "    }\n",
       "\n",
       "    .dataframe tbody tr th {\n",
       "        vertical-align: top;\n",
       "    }\n",
       "\n",
       "    .dataframe thead th {\n",
       "        text-align: right;\n",
       "    }\n",
       "</style>\n",
       "<table border=\"1\" class=\"dataframe\">\n",
       "  <thead>\n",
       "    <tr style=\"text-align: right;\">\n",
       "      <th></th>\n",
       "      <th>cowcode2</th>\n",
       "      <th>politycode</th>\n",
       "      <th>un_region_name</th>\n",
       "      <th>un_continent_name</th>\n",
       "      <th>ehead</th>\n",
       "      <th>leaderspellreg</th>\n",
       "      <th>democracy</th>\n",
       "      <th>regime</th>\n",
       "      <th>start_year</th>\n",
       "      <th>duration</th>\n",
       "      <th>observed</th>\n",
       "    </tr>\n",
       "    <tr>\n",
       "      <th>ctryname</th>\n",
       "      <th></th>\n",
       "      <th></th>\n",
       "      <th></th>\n",
       "      <th></th>\n",
       "      <th></th>\n",
       "      <th></th>\n",
       "      <th></th>\n",
       "      <th></th>\n",
       "      <th></th>\n",
       "      <th></th>\n",
       "      <th></th>\n",
       "    </tr>\n",
       "  </thead>\n",
       "  <tbody>\n",
       "    <tr>\n",
       "      <th>Afghanistan</th>\n",
       "      <td>700</td>\n",
       "      <td>700.0</td>\n",
       "      <td>Southern Asia</td>\n",
       "      <td>Asia</td>\n",
       "      <td>Mohammad Zahir Shah</td>\n",
       "      <td>Mohammad Zahir Shah.Afghanistan.1946.1952.Mona...</td>\n",
       "      <td>Non-democracy</td>\n",
       "      <td>Monarchy</td>\n",
       "      <td>1946</td>\n",
       "      <td>7</td>\n",
       "      <td>1</td>\n",
       "    </tr>\n",
       "    <tr>\n",
       "      <th>Afghanistan</th>\n",
       "      <td>700</td>\n",
       "      <td>700.0</td>\n",
       "      <td>Southern Asia</td>\n",
       "      <td>Asia</td>\n",
       "      <td>Sardar Mohammad Daoud</td>\n",
       "      <td>Sardar Mohammad Daoud.Afghanistan.1953.1962.Ci...</td>\n",
       "      <td>Non-democracy</td>\n",
       "      <td>Civilian Dict</td>\n",
       "      <td>1953</td>\n",
       "      <td>10</td>\n",
       "      <td>1</td>\n",
       "    </tr>\n",
       "    <tr>\n",
       "      <th>Afghanistan</th>\n",
       "      <td>700</td>\n",
       "      <td>700.0</td>\n",
       "      <td>Southern Asia</td>\n",
       "      <td>Asia</td>\n",
       "      <td>Mohammad Zahir Shah</td>\n",
       "      <td>Mohammad Zahir Shah.Afghanistan.1963.1972.Mona...</td>\n",
       "      <td>Non-democracy</td>\n",
       "      <td>Monarchy</td>\n",
       "      <td>1963</td>\n",
       "      <td>10</td>\n",
       "      <td>1</td>\n",
       "    </tr>\n",
       "    <tr>\n",
       "      <th>Afghanistan</th>\n",
       "      <td>700</td>\n",
       "      <td>700.0</td>\n",
       "      <td>Southern Asia</td>\n",
       "      <td>Asia</td>\n",
       "      <td>Sardar Mohammad Daoud</td>\n",
       "      <td>Sardar Mohammad Daoud.Afghanistan.1973.1977.Ci...</td>\n",
       "      <td>Non-democracy</td>\n",
       "      <td>Civilian Dict</td>\n",
       "      <td>1973</td>\n",
       "      <td>5</td>\n",
       "      <td>0</td>\n",
       "    </tr>\n",
       "    <tr>\n",
       "      <th>Afghanistan</th>\n",
       "      <td>700</td>\n",
       "      <td>700.0</td>\n",
       "      <td>Southern Asia</td>\n",
       "      <td>Asia</td>\n",
       "      <td>Nur Mohammad Taraki</td>\n",
       "      <td>Nur Mohammad Taraki.Afghanistan.1978.1978.Civi...</td>\n",
       "      <td>Non-democracy</td>\n",
       "      <td>Civilian Dict</td>\n",
       "      <td>1978</td>\n",
       "      <td>1</td>\n",
       "      <td>0</td>\n",
       "    </tr>\n",
       "  </tbody>\n",
       "</table>\n",
       "</div>"
      ],
      "text/plain": [
       "             cowcode2  politycode un_region_name un_continent_name  \\\n",
       "ctryname                                                             \n",
       "Afghanistan       700       700.0  Southern Asia              Asia   \n",
       "Afghanistan       700       700.0  Southern Asia              Asia   \n",
       "Afghanistan       700       700.0  Southern Asia              Asia   \n",
       "Afghanistan       700       700.0  Southern Asia              Asia   \n",
       "Afghanistan       700       700.0  Southern Asia              Asia   \n",
       "\n",
       "                             ehead  \\\n",
       "ctryname                             \n",
       "Afghanistan    Mohammad Zahir Shah   \n",
       "Afghanistan  Sardar Mohammad Daoud   \n",
       "Afghanistan    Mohammad Zahir Shah   \n",
       "Afghanistan  Sardar Mohammad Daoud   \n",
       "Afghanistan    Nur Mohammad Taraki   \n",
       "\n",
       "                                                leaderspellreg      democracy  \\\n",
       "ctryname                                                                        \n",
       "Afghanistan  Mohammad Zahir Shah.Afghanistan.1946.1952.Mona...  Non-democracy   \n",
       "Afghanistan  Sardar Mohammad Daoud.Afghanistan.1953.1962.Ci...  Non-democracy   \n",
       "Afghanistan  Mohammad Zahir Shah.Afghanistan.1963.1972.Mona...  Non-democracy   \n",
       "Afghanistan  Sardar Mohammad Daoud.Afghanistan.1973.1977.Ci...  Non-democracy   \n",
       "Afghanistan  Nur Mohammad Taraki.Afghanistan.1978.1978.Civi...  Non-democracy   \n",
       "\n",
       "                    regime  start_year  duration  observed  \n",
       "ctryname                                                    \n",
       "Afghanistan       Monarchy        1946         7         1  \n",
       "Afghanistan  Civilian Dict        1953        10         1  \n",
       "Afghanistan       Monarchy        1963        10         1  \n",
       "Afghanistan  Civilian Dict        1973         5         0  \n",
       "Afghanistan  Civilian Dict        1978         1         0  "
      ]
     },
     "execution_count": 4,
     "metadata": {},
     "output_type": "execute_result"
    }
   ],
   "source": [
    "df.head()"
   ]
  },
  {
   "cell_type": "markdown",
   "metadata": {},
   "source": [
    "The `observered` variable is defined as when a regime is taken out of power and new regime takes over. If a `ehead` dies while in power and the regime maintains power then a regime change is not observed."
   ]
  },
  {
   "cell_type": "code",
   "execution_count": 33,
   "metadata": {},
   "outputs": [
    {
     "data": {
      "text/plain": [
       "1946"
      ]
     },
     "execution_count": 33,
     "metadata": {},
     "output_type": "execute_result"
    }
   ],
   "source": [
    "min(df['start_year'])"
   ]
  },
  {
   "cell_type": "code",
   "execution_count": 34,
   "metadata": {},
   "outputs": [
    {
     "data": {
      "text/plain": [
       "2008"
      ]
     },
     "execution_count": 34,
     "metadata": {},
     "output_type": "execute_result"
    }
   ],
   "source": [
    "max(df['start_year'])"
   ]
  },
  {
   "cell_type": "markdown",
   "metadata": {},
   "source": [
    "Dataset starts at 1946. Last regime `start_year` recorded is 2008."
   ]
  },
  {
   "cell_type": "code",
   "execution_count": 5,
   "metadata": {},
   "outputs": [],
   "source": [
    "q_obs = \"\"\"\n",
    "SELECT\n",
    "  COUNT(*) as freq,\n",
    "  observed\n",
    "FROM df\n",
    "GROUP BY\n",
    "    observed\n",
    "ORDER BY\n",
    "    freq DESC\n",
    "\"\"\""
   ]
  },
  {
   "cell_type": "code",
   "execution_count": 6,
   "metadata": {},
   "outputs": [
    {
     "name": "stdout",
     "output_type": "stream",
     "text": [
      "   freq  observed\n",
      "0  1468         1\n",
      "1   340         0\n"
     ]
    }
   ],
   "source": [
    "print (sqldf(q_obs, locals()))"
   ]
  },
  {
   "cell_type": "markdown",
   "metadata": {},
   "source": [
    "Most regimes have been removed out of power throughout history. In surival analysis when something is not observed, it is defined as a \"censor\"."
   ]
  },
  {
   "cell_type": "code",
   "execution_count": 37,
   "metadata": {},
   "outputs": [
    {
     "name": "stdout",
     "output_type": "stream",
     "text": [
      "47\n",
      "1\n"
     ]
    }
   ],
   "source": [
    "print(max(df['duration']))\n",
    "print(min(df['duration']))"
   ]
  },
  {
   "cell_type": "code",
   "execution_count": 35,
   "metadata": {},
   "outputs": [
    {
     "data": {
      "text/html": [
       "<div>\n",
       "<style scoped>\n",
       "    .dataframe tbody tr th:only-of-type {\n",
       "        vertical-align: middle;\n",
       "    }\n",
       "\n",
       "    .dataframe tbody tr th {\n",
       "        vertical-align: top;\n",
       "    }\n",
       "\n",
       "    .dataframe thead th {\n",
       "        text-align: right;\n",
       "    }\n",
       "</style>\n",
       "<table border=\"1\" class=\"dataframe\">\n",
       "  <thead>\n",
       "    <tr style=\"text-align: right;\">\n",
       "      <th></th>\n",
       "      <th>cowcode2</th>\n",
       "      <th>politycode</th>\n",
       "      <th>un_region_name</th>\n",
       "      <th>un_continent_name</th>\n",
       "      <th>ehead</th>\n",
       "      <th>leaderspellreg</th>\n",
       "      <th>democracy</th>\n",
       "      <th>regime</th>\n",
       "      <th>start_year</th>\n",
       "      <th>duration</th>\n",
       "      <th>observed</th>\n",
       "    </tr>\n",
       "    <tr>\n",
       "      <th>ctryname</th>\n",
       "      <th></th>\n",
       "      <th></th>\n",
       "      <th></th>\n",
       "      <th></th>\n",
       "      <th></th>\n",
       "      <th></th>\n",
       "      <th></th>\n",
       "      <th></th>\n",
       "      <th></th>\n",
       "      <th></th>\n",
       "      <th></th>\n",
       "    </tr>\n",
       "  </thead>\n",
       "  <tbody>\n",
       "    <tr>\n",
       "      <th>Cuba</th>\n",
       "      <td>40</td>\n",
       "      <td>40.0</td>\n",
       "      <td>Caribbean</td>\n",
       "      <td>Americas</td>\n",
       "      <td>Fidel Castro Ruz</td>\n",
       "      <td>Fidel Castro Ruz.Cuba.1959.2005.Civilian Dict</td>\n",
       "      <td>Non-democracy</td>\n",
       "      <td>Civilian Dict</td>\n",
       "      <td>1959</td>\n",
       "      <td>47</td>\n",
       "      <td>1</td>\n",
       "    </tr>\n",
       "    <tr>\n",
       "      <th>Jordan</th>\n",
       "      <td>663</td>\n",
       "      <td>663.0</td>\n",
       "      <td>Western Asia</td>\n",
       "      <td>Asia</td>\n",
       "      <td>Hussein bin Talal</td>\n",
       "      <td>Hussein bin Talal.Jordan.1952.1998.Monarchy</td>\n",
       "      <td>Non-democracy</td>\n",
       "      <td>Monarchy</td>\n",
       "      <td>1952</td>\n",
       "      <td>47</td>\n",
       "      <td>0</td>\n",
       "    </tr>\n",
       "  </tbody>\n",
       "</table>\n",
       "</div>"
      ],
      "text/plain": [
       "          cowcode2  politycode un_region_name un_continent_name  \\\n",
       "ctryname                                                          \n",
       "Cuba            40        40.0      Caribbean          Americas   \n",
       "Jordan         663       663.0   Western Asia              Asia   \n",
       "\n",
       "                      ehead                                 leaderspellreg  \\\n",
       "ctryname                                                                     \n",
       "Cuba       Fidel Castro Ruz  Fidel Castro Ruz.Cuba.1959.2005.Civilian Dict   \n",
       "Jordan    Hussein bin Talal    Hussein bin Talal.Jordan.1952.1998.Monarchy   \n",
       "\n",
       "              democracy         regime  start_year  duration  observed  \n",
       "ctryname                                                                \n",
       "Cuba      Non-democracy  Civilian Dict        1959        47         1  \n",
       "Jordan    Non-democracy       Monarchy        1952        47         0  "
      ]
     },
     "execution_count": 35,
     "metadata": {},
     "output_type": "execute_result"
    }
   ],
   "source": [
    "df[df['duration'] == 47]"
   ]
  },
  {
   "cell_type": "markdown",
   "metadata": {},
   "source": [
    "Longest lasting regimes recorded were 47 years. Fidel Castro of Cuba and Hussein bin Talal of Jordan each ruled for 47 years."
   ]
  },
  {
   "cell_type": "code",
   "execution_count": 41,
   "metadata": {
    "scrolled": true
   },
   "outputs": [
    {
     "data": {
      "text/plain": [
       "555"
      ]
     },
     "execution_count": 41,
     "metadata": {},
     "output_type": "execute_result"
    }
   ],
   "source": [
    "len(df[df['duration'] == 1])"
   ]
  },
  {
   "cell_type": "markdown",
   "metadata": {},
   "source": [
    "There were 555 regimes that lasted a year or less."
   ]
  },
  {
   "cell_type": "code",
   "execution_count": 27,
   "metadata": {},
   "outputs": [],
   "source": [
    "q_max_con = \"\"\"\n",
    "SELECT\n",
    "  MAX(duration) as max_dur,\n",
    "  un_continent_name\n",
    "FROM df\n",
    "GROUP BY\n",
    "    un_continent_name\n",
    "\"\"\""
   ]
  },
  {
   "cell_type": "code",
   "execution_count": 28,
   "metadata": {},
   "outputs": [
    {
     "name": "stdout",
     "output_type": "stream",
     "text": [
      "   max_dur un_continent_name\n",
      "0       42            Africa\n",
      "1       47          Americas\n",
      "2       47              Asia\n",
      "3       39            Europe\n",
      "4       44           Oceania\n"
     ]
    }
   ],
   "source": [
    "print (sqldf(q_max_con, locals()))"
   ]
  },
  {
   "cell_type": "code",
   "execution_count": 29,
   "metadata": {},
   "outputs": [],
   "source": [
    "q_max_reg = \"\"\"\n",
    "SELECT\n",
    "  MAX(duration) as max_dur,\n",
    "  regime\n",
    "FROM df\n",
    "GROUP BY\n",
    "    regime\n",
    "\"\"\""
   ]
  },
  {
   "cell_type": "code",
   "execution_count": 30,
   "metadata": {},
   "outputs": [
    {
     "name": "stdout",
     "output_type": "stream",
     "text": [
      "   max_dur             regime\n",
      "0       47      Civilian Dict\n",
      "1       46      Military Dict\n",
      "2       13          Mixed Dem\n",
      "3       47           Monarchy\n",
      "4       23  Parliamentary Dem\n",
      "5       12   Presidential Dem\n"
     ]
    }
   ],
   "source": [
    "print (sqldf(q_max_reg, locals()))"
   ]
  },
  {
   "cell_type": "code",
   "execution_count": 31,
   "metadata": {},
   "outputs": [],
   "source": [
    "q_avg_reg = \"\"\"\n",
    "SELECT\n",
    "  AVG(duration) as max_dur,\n",
    "  regime\n",
    "FROM df\n",
    "GROUP BY\n",
    "    regime\n",
    "\"\"\""
   ]
  },
  {
   "cell_type": "code",
   "execution_count": 32,
   "metadata": {},
   "outputs": [
    {
     "name": "stdout",
     "output_type": "stream",
     "text": [
      "     max_dur             regime\n",
      "0   8.039394      Civilian Dict\n",
      "1   7.177966      Military Dict\n",
      "2   2.505455          Mixed Dem\n",
      "3  14.127273           Monarchy\n",
      "4   3.745299  Parliamentary Dem\n",
      "5   3.409786   Presidential Dem\n"
     ]
    }
   ],
   "source": [
    "print (sqldf(q_avg_reg, locals()))"
   ]
  },
  {
   "cell_type": "code",
   "execution_count": 20,
   "metadata": {},
   "outputs": [
    {
     "data": {
      "text/plain": [
       "<matplotlib.axes._subplots.AxesSubplot at 0x7f7e9e505588>"
      ]
     },
     "execution_count": 20,
     "metadata": {},
     "output_type": "execute_result"
    },
    {
     "data": {
      "image/png": "[encoded data removed]",
      "text/plain": [
       "<Figure size 432x288 with 1 Axes>"
      ]
     },
     "metadata": {},
     "output_type": "display_data"
    }
   ],
   "source": [
    "df['duration'].plot.hist(title=\"Distribution of Regime Durations\")"
   ]
  },
  {
   "cell_type": "markdown",
   "metadata": {},
   "source": [
    "Most regimes have lasted between 0-5 years."
   ]
  },
  {
   "cell_type": "code",
   "execution_count": 8,
   "metadata": {},
   "outputs": [],
   "source": [
    "from lifelines import KaplanMeierFitter"
   ]
  },
  {
   "cell_type": "code",
   "execution_count": 9,
   "metadata": {},
   "outputs": [],
   "source": [
    "kmf = KaplanMeierFitter()"
   ]
  },
  {
   "cell_type": "code",
   "execution_count": 10,
   "metadata": {},
   "outputs": [],
   "source": [
    "T = df['duration']\n",
    "C = df['observed']"
   ]
  },
  {
   "cell_type": "code",
   "execution_count": 11,
   "metadata": {},
   "outputs": [
    {
     "data": {
      "text/plain": [
       "<lifelines.KaplanMeierFitter: fitted with 1808 observations, 340 censored>"
      ]
     },
     "execution_count": 11,
     "metadata": {},
     "output_type": "execute_result"
    }
   ],
   "source": [
    "kmf.fit(T,C)"
   ]
  },
  {
   "cell_type": "markdown",
   "metadata": {},
   "source": [
    "The Kaplan Meier Fitter is utilized to estimate our surival curve. A regime is defined as censored when the regime's head of state dies in power or if the regime is currently in power."
   ]
  },
  {
   "cell_type": "markdown",
   "metadata": {},
   "source": [
    "### Regime Survival"
   ]
  },
  {
   "cell_type": "code",
   "execution_count": 12,
   "metadata": {},
   "outputs": [
    {
     "data": {
      "text/plain": [
       "<matplotlib.axes._subplots.AxesSubplot at 0x7f7e8e3686d8>"
      ]
     },
     "execution_count": 12,
     "metadata": {},
     "output_type": "execute_result"
    },
    {
     "data": {
      "image/png": "[encoded data removed]",
      "text/plain": [
       "<Figure size 720x720 with 1 Axes>"
      ]
     },
     "metadata": {},
     "output_type": "display_data"
    }
   ],
   "source": [
    "%matplotlib inline\n",
    "kmf.plot(figsize=(10,10), title=\"Survival Curve for Regime\")"
   ]
  },
  {
   "cell_type": "markdown",
   "metadata": {},
   "source": [
    "\"Empires inevitably fall, and when they do, history judges them for the legacies they leave behind.\" - Noah Feldman"
   ]
  },
  {
   "cell_type": "markdown",
   "metadata": {},
   "source": [
    "### Regime Survival by Type of Government"
   ]
  },
  {
   "cell_type": "code",
   "execution_count": 13,
   "metadata": {},
   "outputs": [
    {
     "name": "stderr",
     "output_type": "stream",
     "text": [
      "/home/kishan/anaconda3/envs/deeplearn3/lib/python3.6/site-packages/ipykernel_launcher.py:6: DeprecationWarning: \n",
      ".ix is deprecated. Please use\n",
      ".loc for label based indexing or\n",
      ".iloc for positional indexing\n",
      "\n",
      "See the documentation here:\n",
      "http://pandas.pydata.org/pandas-docs/stable/indexing.html#ix-indexer-is-deprecated\n",
      "  \n"
     ]
    },
    {
     "data": {
      "image/png": "[encoded data removed]",
      "text/plain": [
       "<Figure size 720x720 with 1 Axes>"
      ]
     },
     "metadata": {},
     "output_type": "display_data"
    }
   ],
   "source": [
    "from matplotlib.pyplot import subplot \n",
    "ax = subplot(111)\n",
    "\n",
    "for reg in df['regime'].unique():\n",
    "    ix = df['regime'] == reg\n",
    "    kmf.fit(T.ix[ix], C.ix[ix], label=reg)\n",
    "    ax = kmf.plot(ax=ax, figsize=(10,10), title=\"Survival Curve for Regime by Type of Government\")"
   ]
  },
  {
   "cell_type": "markdown",
   "metadata": {},
   "source": [
    "### Regime Survival by Continent"
   ]
  },
  {
   "cell_type": "code",
   "execution_count": 14,
   "metadata": {
    "scrolled": false
   },
   "outputs": [
    {
     "name": "stderr",
     "output_type": "stream",
     "text": [
      "/home/kishan/anaconda3/envs/deeplearn3/lib/python3.6/site-packages/ipykernel_launcher.py:6: DeprecationWarning: \n",
      ".ix is deprecated. Please use\n",
      ".loc for label based indexing or\n",
      ".iloc for positional indexing\n",
      "\n",
      "See the documentation here:\n",
      "http://pandas.pydata.org/pandas-docs/stable/indexing.html#ix-indexer-is-deprecated\n",
      "  \n"
     ]
    },
    {
     "data": {
      "image/png": "[encoded data removed]",
      "text/plain": [
       "<Figure size 720x720 with 1 Axes>"
      ]
     },
     "metadata": {},
     "output_type": "display_data"
    }
   ],
   "source": [
    "from matplotlib.pyplot import subplot \n",
    "ax = subplot(111)\n",
    "\n",
    "for reg in df['un_continent_name'].unique():\n",
    "    ix = df['un_continent_name'] == reg\n",
    "    kmf.fit(T.ix[ix], C.ix[ix], label=reg)\n",
    "    ax = kmf.plot(ax=ax, figsize=(10,10), title=\"Survival Curve for Regime by Continent\")"
   ]
  },
  {
   "cell_type": "code",
   "execution_count": 15,
   "metadata": {},
   "outputs": [],
   "source": [
    "q_africa = \"\"\"\n",
    "SELECT\n",
    "  COUNT(*) as freq,\n",
    "  regime\n",
    "FROM df\n",
    "WHERE\n",
    "    un_continent_name = 'Africa'\n",
    "GROUP BY\n",
    "    regime\n",
    "ORDER BY\n",
    "    freq DESC\n",
    "\"\"\""
   ]
  },
  {
   "cell_type": "code",
   "execution_count": 16,
   "metadata": {},
   "outputs": [
    {
     "name": "stdout",
     "output_type": "stream",
     "text": [
      "   freq             regime\n",
      "0   114      Civilian Dict\n",
      "1    89      Military Dict\n",
      "2    58          Mixed Dem\n",
      "3    24   Presidential Dem\n",
      "4    18  Parliamentary Dem\n",
      "5    11           Monarchy\n"
     ]
    }
   ],
   "source": [
    "print (sqldf(q_africa, locals()))\n"
   ]
  },
  {
   "cell_type": "code",
   "execution_count": 17,
   "metadata": {},
   "outputs": [],
   "source": [
    "q_europe = \"\"\"\n",
    "SELECT\n",
    "  COUNT(*) as freq,\n",
    "  regime\n",
    "FROM df\n",
    "WHERE\n",
    "    un_continent_name = 'Europe'\n",
    "GROUP BY\n",
    "    regime\n",
    "ORDER BY\n",
    "    freq DESC\n",
    "\"\"\""
   ]
  },
  {
   "cell_type": "code",
   "execution_count": 18,
   "metadata": {},
   "outputs": [
    {
     "name": "stdout",
     "output_type": "stream",
     "text": [
      "   freq             regime\n",
      "0   260  Parliamentary Dem\n",
      "1   178          Mixed Dem\n",
      "2    69      Civilian Dict\n",
      "3    63   Presidential Dem\n",
      "4     6      Military Dict\n"
     ]
    }
   ],
   "source": [
    "print (sqldf(q_europe, locals()))"
   ]
  },
  {
   "cell_type": "markdown",
   "metadata": {},
   "source": [
    "Africa has historically had a higher probability of regime surivival over time in comparison to Europe. The SQL queries show that Africa has predominantly had military dictorships while Europe has had more democratic regimes."
   ]
  },
  {
   "cell_type": "markdown",
   "metadata": {},
   "source": [
    "### Regime Survival Democratic vs. Non-democratic"
   ]
  },
  {
   "cell_type": "code",
   "execution_count": 19,
   "metadata": {
    "scrolled": false
   },
   "outputs": [
    {
     "name": "stderr",
     "output_type": "stream",
     "text": [
      "/home/kishan/anaconda3/envs/deeplearn3/lib/python3.6/site-packages/ipykernel_launcher.py:6: DeprecationWarning: \n",
      ".ix is deprecated. Please use\n",
      ".loc for label based indexing or\n",
      ".iloc for positional indexing\n",
      "\n",
      "See the documentation here:\n",
      "http://pandas.pydata.org/pandas-docs/stable/indexing.html#ix-indexer-is-deprecated\n",
      "  \n"
     ]
    },
    {
     "data": {
      "image/png": "[encoded data removed]",
      "text/plain": [
       "<Figure size 432x432 with 1 Axes>"
      ]
     },
     "metadata": {},
     "output_type": "display_data"
    }
   ],
   "source": [
    "from matplotlib.pyplot import subplot \n",
    "ax = subplot(111)\n",
    "\n",
    "for reg in df['democracy'].unique():\n",
    "    ix = df['democracy'] == reg\n",
    "    kmf.fit(T.ix[ix], C.ix[ix], label=reg)\n",
    "    ax = kmf.plot(ax=ax, figsize=(6,6), title=\"Survival Curve for Democratic and non-Democratic Regimes\")"
   ]
  },
  {
   "cell_type": "markdown",
   "metadata": {},
   "source": [
    "Non-democratic regimes have much higher surival rates over time in comparison to democratic regimes."
   ]
  }
 ],
 "metadata": {
  "kernelspec": {
   "display_name": "Python 3",
   "language": "python",
   "name": "python3"
  },
  "language_info": {
   "codemirror_mode": {
    "name": "ipython",
    "version": 3
   },
   "file_extension": ".py",
   "mimetype": "text/x-python",
   "name": "python",
   "nbconvert_exporter": "python",
   "pygments_lexer": "ipython3",
   "version": "3.6.5"
  }
 },
 "nbformat": 4,
 "nbformat_minor": 2
}
